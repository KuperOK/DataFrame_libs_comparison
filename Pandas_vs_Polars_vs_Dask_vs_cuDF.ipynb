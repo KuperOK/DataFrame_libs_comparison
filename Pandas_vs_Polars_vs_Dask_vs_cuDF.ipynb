{
  "nbformat": 4,
  "nbformat_minor": 0,
  "metadata": {
    "colab": {
      "provenance": [],
      "gpuType": "T4",
      "authorship_tag": "ABX9TyNZ+iViBygfI86XZOY+MEgF",
      "include_colab_link": true
    },
    "kernelspec": {
      "name": "python3",
      "display_name": "Python 3"
    },
    "language_info": {
      "name": "python"
    },
    "accelerator": "GPU"
  },
  "cells": [
    {
      "cell_type": "markdown",
      "metadata": {
        "id": "view-in-github",
        "colab_type": "text"
      },
      "source": [
        "<a href=\"https://colab.research.google.com/github/KuperOK/DataFrame_libs_comparison/blob/main/Pandas_vs_Polars_vs_Dask_vs_cuDF.ipynb\" target=\"_parent\"><img src=\"https://colab.research.google.com/assets/colab-badge.svg\" alt=\"Open In Colab\"/></a>"
      ]
    },
    {
      "cell_type": "markdown",
      "source": [
        "## Comparison of `dataframe` libraries\n",
        "\n",
        "**Pandas:** A powerful and flexible Python library for data manipulation and analysis. Provides data structures like DataFrames for efficient data handling. Primarily CPU-bound.\n",
        "\n",
        "**Polars:** A blazingly fast DataFrame library written in Rust. Designed for performance and efficient memory usage. Leverages parallelism and optimized query execution.\n",
        "\n",
        "**Dask:** A flexible parallel computing library for Python. Enables parallel execution on larger-than-memory datasets. Can be used with Pandas DataFrames by partitioning them.\n",
        "\n",
        "**cuDF:** A GPU DataFrame library built on Apache Arrow. Leverages the power of NVIDIA GPUs for accelerated data manipulation and analysis."
      ],
      "metadata": {
        "id": "4CsKQkREPKiG"
      }
    },
    {
      "cell_type": "code",
      "source": [
        "# Before turn on GPU accelerator\n",
        "!nvidia-smi"
      ],
      "metadata": {
        "colab": {
          "base_uri": "https://localhost:8080/"
        },
        "id": "YWOfjlQxsCFG",
        "outputId": "55a147bd-45b5-4ec3-885a-8301281b3b27"
      },
      "execution_count": 1,
      "outputs": [
        {
          "output_type": "stream",
          "name": "stdout",
          "text": [
            "Mon Mar 10 11:38:51 2025       \n",
            "+-----------------------------------------------------------------------------------------+\n",
            "| NVIDIA-SMI 550.54.15              Driver Version: 550.54.15      CUDA Version: 12.4     |\n",
            "|-----------------------------------------+------------------------+----------------------+\n",
            "| GPU  Name                 Persistence-M | Bus-Id          Disp.A | Volatile Uncorr. ECC |\n",
            "| Fan  Temp   Perf          Pwr:Usage/Cap |           Memory-Usage | GPU-Util  Compute M. |\n",
            "|                                         |                        |               MIG M. |\n",
            "|=========================================+========================+======================|\n",
            "|   0  Tesla T4                       Off |   00000000:00:04.0 Off |                    0 |\n",
            "| N/A   51C    P8             12W /   70W |       0MiB /  15360MiB |      0%      Default |\n",
            "|                                         |                        |                  N/A |\n",
            "+-----------------------------------------+------------------------+----------------------+\n",
            "                                                                                         \n",
            "+-----------------------------------------------------------------------------------------+\n",
            "| Processes:                                                                              |\n",
            "|  GPU   GI   CI        PID   Type   Process name                              GPU Memory |\n",
            "|        ID   ID                                                               Usage      |\n",
            "|=========================================================================================|\n",
            "|  No running processes found                                                             |\n",
            "+-----------------------------------------------------------------------------------------+\n"
          ]
        }
      ]
    },
    {
      "cell_type": "code",
      "source": [
        "import cupy as cp\n",
        "\n",
        "print(\"CUDA devices available:\", cp.cuda.runtime.getDeviceCount())\n",
        "device = cp.cuda.Device(0)\n",
        "print(\"GPU Compute Capability:\", device.compute_capability)"
      ],
      "metadata": {
        "colab": {
          "base_uri": "https://localhost:8080/"
        },
        "id": "ct-0RCV7rqsf",
        "outputId": "a3510780-0835-4953-a91c-4d1b6e104846"
      },
      "execution_count": 1,
      "outputs": [
        {
          "output_type": "stream",
          "name": "stdout",
          "text": [
            "CUDA devices available: 1\n",
            "GPU Compute Capability: 75\n"
          ]
        }
      ]
    },
    {
      "cell_type": "code",
      "execution_count": 2,
      "metadata": {
        "id": "TE5vU-7Kllub"
      },
      "outputs": [],
      "source": [
        "import time\n",
        "import numpy as np\n",
        "import pandas as pd\n",
        "import polars as pl\n",
        "import dask.dataframe as dd\n",
        "import cudf\n",
        "import cupy as cp"
      ]
    },
    {
      "cell_type": "code",
      "source": [
        "n_rows = 10**7\n",
        "n_cols = 5\n",
        "\n",
        "# Create random data\n",
        "data_np = np.random.rand(n_rows, n_cols)\n",
        "columns = [f'col_{i}' for i in range(n_cols)]"
      ],
      "metadata": {
        "id": "k59pf2a9s7CG"
      },
      "execution_count": 3,
      "outputs": []
    },
    {
      "cell_type": "code",
      "source": [
        "# ----------------- Pandas -----------------\n",
        "df_pd = pd.DataFrame(data_np, columns=columns)\n",
        "\n",
        "start_time = time.time()\n",
        "df_pd_sum = df_pd.sum()\n",
        "pandas_sum_time = time.time() - start_time\n",
        "\n",
        "start_time = time.time()\n",
        "df_pd_filtered = df_pd[df_pd[\"col_0\"] > 0.5]\n",
        "pandas_filter_time = time.time() - start_time\n",
        "\n",
        "start_time = time.time()\n",
        "df_pd[\"category\"] = np.random.choice([\"A\", \"B\", \"C\", \"D\"], size=n_rows)\n",
        "df_pd_grouped = df_pd.groupby(\"category\").mean()\n",
        "pandas_groupby_time = time.time() - start_time\n",
        "\n",
        "start_time = time.time()\n",
        "df_pd_sorted = df_pd.sort_values(\"col_1\")\n",
        "pandas_sort_time = time.time() - start_time\n",
        "\n",
        "print(f'Pandas: SUM {pandas_sum_time:.3f}s | FILTER {pandas_filter_time:.3f}s | GROUPBY {pandas_groupby_time:.3f}s | SORT {pandas_sort_time:.3f}s')"
      ],
      "metadata": {
        "colab": {
          "base_uri": "https://localhost:8080/"
        },
        "id": "5pd6Z_5Fs7Eu",
        "outputId": "ea65178b-48ad-4d6e-9a3d-add8e52b2866"
      },
      "execution_count": 6,
      "outputs": [
        {
          "output_type": "stream",
          "name": "stdout",
          "text": [
            "Pandas: SUM 0.619s | FILTER 0.209s | GROUPBY 0.967s | SORT 3.335s\n"
          ]
        }
      ]
    },
    {
      "cell_type": "code",
      "source": [
        "# ----------------- Polars -----------------\n",
        "df_pl = pl.DataFrame(data_np, schema=columns)\n",
        "\n",
        "start_time = time.time()\n",
        "df_pl_sum = df_pl.sum()\n",
        "polars_sum_time = time.time() - start_time\n",
        "\n",
        "start_time = time.time()\n",
        "df_pl_filtered = df_pl.filter(pl.col(\"col_0\") > 0.5)\n",
        "polars_filter_time = time.time() - start_time\n",
        "\n",
        "start_time = time.time()\n",
        "df_pl = df_pl.with_columns(pl.Series(\"category\", np.random.choice([\"A\", \"B\", \"C\", \"D\"], size=n_rows)))\n",
        "df_pl_grouped = df_pl.group_by(\"category\").agg(pl.all().mean())\n",
        "polars_groupby_time = time.time() - start_time\n",
        "\n",
        "start_time = time.time()\n",
        "df_pl_sorted = df_pl.sort(\"col_1\")\n",
        "polars_sort_time = time.time() - start_time\n",
        "\n",
        "print(f'Polars: SUM {polars_sum_time:.3f}s | FILTER {polars_filter_time:.3f}s | GROUPBY {polars_groupby_time:.3f}s | SORT {polars_sort_time:.3f}s')"
      ],
      "metadata": {
        "colab": {
          "base_uri": "https://localhost:8080/"
        },
        "id": "vInB-mQVs7HW",
        "outputId": "4c220af1-e780-4094-9340-615af5bff2aa"
      },
      "execution_count": 7,
      "outputs": [
        {
          "output_type": "stream",
          "name": "stdout",
          "text": [
            "Polars: SUM 0.029s | FILTER 0.115s | GROUPBY 2.899s | SORT 2.686s\n"
          ]
        }
      ]
    },
    {
      "cell_type": "code",
      "source": [
        "# ----------------- Dask -----------------\n",
        "# df_dask = dd.from_array(data_np, columns=columns, npartitions=10)\n",
        "df_dask = dd.from_pandas(pd.DataFrame(data_np, columns=columns), npartitions=10)\n",
        "\n",
        "\n",
        "start_time = time.time()\n",
        "# df_dask_sum = df_dask.sum().compute()\n",
        "df_dask.select_dtypes(include=[\"number\"]).sum().compute()\n",
        "dask_sum_time = time.time() - start_time\n",
        "\n",
        "start_time = time.time()\n",
        "df_dask_filtered = df_dask[df_dask[\"col_0\"] > 0.5].compute()\n",
        "dask_filter_time = time.time() - start_time\n",
        "\n",
        "start_time = time.time()\n",
        "df_dask[\"category\"] = dd.from_array(np.random.choice([\"A\", \"B\", \"C\", \"D\"], size=n_rows))\n",
        "df_dask_grouped = df_dask.groupby(\"category\").mean().compute()\n",
        "dask_groupby_time = time.time() - start_time\n",
        "\n",
        "start_time = time.time()\n",
        "df_dask_sorted = df_dask.sort_values(\"col_1\").compute()\n",
        "dask_sort_time = time.time() - start_time\n",
        "\n",
        "print(f'Dask splited: SUM {dask_sum_time:.2f}s | FILTER {dask_filter_time:.2f}s | GROUPBY {dask_groupby_time:.2f}s | SORT {dask_sort_time:.2f}s')"
      ],
      "metadata": {
        "colab": {
          "base_uri": "https://localhost:8080/"
        },
        "id": "RmSSIT8ls7Jv",
        "outputId": "28fa8dc4-fb94-4072-e560-514558394505"
      },
      "execution_count": 20,
      "outputs": [
        {
          "output_type": "stream",
          "name": "stdout",
          "text": [
            "Dask splited: SUM 0.11s | FILTER 0.21s | GROUPBY 3.59s | SORT 5.46s\n"
          ]
        }
      ]
    },
    {
      "cell_type": "code",
      "source": [
        "df_dask_2 = dd.from_array(data_np, columns=columns)\n",
        "\n",
        "start_time = time.time()\n",
        "df_dask.select_dtypes(include=[\"number\"]).sum().compute()\n",
        "dask_sum_time2 = time.time() - start_time\n",
        "\n",
        "start_time = time.time()\n",
        "df_dask_filtered = df_dask[df_dask[\"col_0\"] > 0.5].compute()\n",
        "dask_filter_time2 = time.time() - start_time\n",
        "\n",
        "start_time = time.time()\n",
        "df_dask[\"category\"] = dd.from_array(np.random.choice([\"A\", \"B\", \"C\", \"D\"], size=n_rows))\n",
        "df_dask_grouped = df_dask.groupby(\"category\").mean().compute()\n",
        "dask_groupby_time2 = time.time() - start_time\n",
        "\n",
        "start_time = time.time()\n",
        "df_dask_sorted = df_dask.sort_values(\"col_1\").compute()\n",
        "dask_sort_time2 = time.time() - start_time\n",
        "\n",
        "print(f'Dask NOT splited: SUM {dask_sum_time2:.3f}s | FILTER {dask_filter_time2:.3f}s | GROUPBY {dask_groupby_time2:.3f}s | SORT {dask_sort_time2:.3f}s')"
      ],
      "metadata": {
        "colab": {
          "base_uri": "https://localhost:8080/"
        },
        "id": "U1CXD3aF5y_u",
        "outputId": "95e96a1c-7809-4099-e107-8f4e43d96214"
      },
      "execution_count": 17,
      "outputs": [
        {
          "output_type": "stream",
          "name": "stdout",
          "text": [
            "Dask NOT splited: SUM 1.510s | FILTER 1.474s | GROUPBY 2.904s | SORT 5.418s\n"
          ]
        }
      ]
    },
    {
      "cell_type": "code",
      "source": [
        "# ----------------- RAPIDS (cuDF) -----------------\n",
        "data_cp = cp.asarray(data_np)\n",
        "df_cudf = cudf.DataFrame(data_cp.get(), columns=columns)\n",
        "\n",
        "start_time = time.time()\n",
        "df_cudf_sum = df_cudf.sum()\n",
        "rapids_sum_time = time.time() - start_time\n",
        "\n",
        "start_time = time.time()\n",
        "df_cudf_filtered = df_cudf[df_cudf[\"col_0\"] > 0.5]\n",
        "rapids_filter_time = time.time() - start_time\n",
        "\n",
        "start_time = time.time()\n",
        "df_cudf[\"category\"] = np.random.choice([\"A\", \"B\", \"C\", \"D\"], size=n_rows)\n",
        "df_cudf_grouped = df_cudf.groupby(\"category\").mean()\n",
        "rapids_groupby_time = time.time() - start_time\n",
        "\n",
        "start_time = time.time()\n",
        "df_cudf_sorted = df_cudf.sort_values(\"col_1\")\n",
        "rapids_sort_time = time.time() - start_time\n",
        "\n",
        "print(f'RAPIDS cuDF: SUM {rapids_sum_time:.3f}s | FILTER {rapids_filter_time:.3f}s | GROUPBY {rapids_groupby_time:.3f}s | SORT {rapids_sort_time:.3f}s')"
      ],
      "metadata": {
        "colab": {
          "base_uri": "https://localhost:8080/"
        },
        "id": "CbmGAAA2s7MX",
        "outputId": "8f8a5310-5396-4837-96f2-5de92c69ac63"
      },
      "execution_count": 10,
      "outputs": [
        {
          "output_type": "stream",
          "name": "stdout",
          "text": [
            "RAPIDS cuDF: SUM 0.113s | FILTER 0.094s | GROUPBY 1.030s | SORT 0.233s\n"
          ]
        }
      ]
    },
    {
      "cell_type": "code",
      "source": [
        "results = pd.DataFrame({\n",
        "    'Pandas': [pandas_sum_time, pandas_filter_time, pandas_groupby_time, pandas_sort_time],\n",
        "    'Polars': [polars_sum_time, polars_filter_time, polars_groupby_time, polars_sort_time],\n",
        "    'Dask_with_parts': [dask_sum_time, dask_filter_time, dask_groupby_time, dask_sort_time],\n",
        "    'Dask_without_parts': [dask_sum_time2, dask_filter_time2, dask_groupby_time2, dask_sort_time2],\n",
        "    'cuDF': [rapids_sum_time, rapids_filter_time, rapids_groupby_time, rapids_sort_time]\n",
        "}, index=[\"SUM\", \"FILTER\", \"GROUPBY\", \"SORT\"])\n",
        "\n",
        "\n",
        "print(results)"
      ],
      "metadata": {
        "colab": {
          "base_uri": "https://localhost:8080/"
        },
        "id": "Z3oxAhbX1SPe",
        "outputId": "e230658d-e021-4550-f8cd-0812b546457b"
      },
      "execution_count": 18,
      "outputs": [
        {
          "output_type": "stream",
          "name": "stdout",
          "text": [
            "           Pandas    Polars  Dask_with_parts  Dask_without_parts      cuDF\n",
            "SUM      0.619053  0.029147         0.141767            1.510277  0.112732\n",
            "FILTER   0.209184  0.114756         0.728079            1.473987  0.093828\n",
            "GROUPBY  0.966744  2.899146         3.631804            2.903593  1.030282\n",
            "SORT     3.335306  2.686436         5.402755            5.418456  0.232546\n"
          ]
        }
      ]
    },
    {
      "cell_type": "code",
      "source": [
        "results.plot(kind='bar')"
      ],
      "metadata": {
        "colab": {
          "base_uri": "https://localhost:8080/",
          "height": 501
        },
        "id": "jjNjqR8wzrdG",
        "outputId": "5649bc9d-2a85-4c53-ff29-20d29a813f5a"
      },
      "execution_count": 19,
      "outputs": [
        {
          "output_type": "execute_result",
          "data": {
            "text/plain": [
              "<Axes: >"
            ]
          },
          "metadata": {},
          "execution_count": 19
        },
        {
          "output_type": "display_data",
          "data": {
            "text/plain": [
              "<Figure size 640x480 with 1 Axes>"
            ],
            "image/png": "[encoded data removed]"
          },
          "metadata": {}
        }
      ]
    },
    {
      "cell_type": "markdown",
      "source": [
        "### Overall Observations:\n",
        "\n",
        "- **Polars** generally performs the best across most operations, showing very fast execution times for `SUM`, `FILTER`, and `SORT`, but it struggles with `GROUPBY`, where **cuDF** excels.\n",
        "- **Dask** performs well when partitioning is used for operations like `SUM` and `FILTER`, but its performance for `GROUPBY` and `SORT` suffers, especially without partitioning.\n",
        "- **cuDF** shows exceptional performance, especially for operations that benefit from GPU acceleration (`SUM`, `FILTER`, and `SORT`). However, its `GROUPBY` performance, while good, is slower than that of **Polars** and **Pandas**.\n",
        "- **Pandas** remains a solid choice for operations like `GROUPBY` and works well for smaller datasets, but it lags behind in operations like `SUM` and `SORT` when compared to other optimized libraries.\n",
        "\n",
        "### Conclusion:\n",
        "- **Polars** is a great option for most operations if you're dealing with large datasets and need fast execution.\n",
        "- **cuDF** provides the best performance for `SUM`, `FILTER`, and `SORT` if you have access to GPU resources.\n",
        "- **Dask** shines for distributed computing, especially when partitioning is used, but struggles with certain operations.\n",
        "- **Pandas**, though slower for many large dataset operations, is still a solid and dependable choice for smaller datasets or when GPU acceleration is not available."
      ],
      "metadata": {
        "id": "EjWHBZZn9Br_"
      }
    },
    {
      "cell_type": "code",
      "source": [],
      "metadata": {
        "id": "V2Y1pgOA9DNN"
      },
      "execution_count": null,
      "outputs": []
    }
  ]
}